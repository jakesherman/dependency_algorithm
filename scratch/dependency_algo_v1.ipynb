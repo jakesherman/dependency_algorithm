{
 "cells": [
  {
   "cell_type": "markdown",
   "metadata": {},
   "source": [
    "# Dependency Algorithm"
   ]
  },
  {
   "cell_type": "code",
   "execution_count": 1,
   "metadata": {
    "collapsed": true
   },
   "outputs": [],
   "source": [
    "import collections"
   ]
  },
  {
   "cell_type": "markdown",
   "metadata": {},
   "source": [
    "*Context: I was writing a class that would take a list of queries, execute each of them, and return the results. Given the frequency for subsequent queries to rely on tables created from previous queries, I decided to create a dependency algorithm that would automatically order the queries to be run in such an order that resolved all dependencies.*\n",
    "\n",
    "First, here's an example of some dependencies - in this dictionary, the key to the dictionary is the name of the item, and the value is a list of 0 or more other items that this item is dependent on (there are two mistakes in this dictionary of dependencies that we will catch with our checks below)."
   ]
  },
  {
   "cell_type": "code",
   "execution_count": 2,
   "metadata": {},
   "outputs": [],
   "source": [
    "# Example dictionary of items we want to resolve dependencies for\n",
    "my_items = {\n",
    "    'A': ['B', 'C', 'D'],  # -- A is dependent on B, C, D,\n",
    "    'B': [],  # -- B is dependent on nothing, etc.\n",
    "    'C': ['D'],\n",
    "    'D': ['B', 'E'],\n",
    "    'E': ['A'],\n",
    "    'F': [],\n",
    "    'Z': ['A', 'B', 'C', 'D', 'Y']\n",
    "}"
   ]
  },
  {
   "cell_type": "markdown",
   "metadata": {},
   "source": [
    "### Checks"
   ]
  },
  {
   "cell_type": "markdown",
   "metadata": {},
   "source": [
    "Before proceeding, it is important that we conduct two checks on our items:\n",
    "1. Do all of the dependencies exist? We can't have an item be dependent on another item that does not exist.\n",
    "2. Are there any circular dependencies? We can't have an item that is dependent on another item that is dependent on that first item!"
   ]
  },
  {
   "cell_type": "code",
   "execution_count": 3,
   "metadata": {},
   "outputs": [
    {
     "name": "stdout",
     "output_type": "stream",
     "text": [
      "Non-existant dependency: (Z, Y)\n"
     ]
    },
    {
     "data": {
      "text/plain": [
       "False"
      ]
     },
     "execution_count": 3,
     "metadata": {},
     "output_type": "execute_result"
    }
   ],
   "source": [
    "def dependencies_exist(my_items):\n",
    "    all_dependencies_exist = True\n",
    "    for item, dependencies in my_items.items():\n",
    "        for dependency in dependencies:\n",
    "            if dependency not in my_items.keys():\n",
    "                print 'Non-existant dependency: ({0}, {1})'.format(\n",
    "                    item, dependency)\n",
    "                all_dependencies_exist = False\n",
    "    return all_dependencies_exist\n",
    "\n",
    "\n",
    "dependencies_exist(my_items)"
   ]
  },
  {
   "cell_type": "markdown",
   "metadata": {},
   "source": [
    "`my_items` failed the `dependencies_exist` function because Z is dependent on Y, which does not exist. Let's try deleting this dependency and seeing if `my_items` can pass this check."
   ]
  },
  {
   "cell_type": "code",
   "execution_count": 4,
   "metadata": {},
   "outputs": [
    {
     "data": {
      "text/plain": [
       "True"
      ]
     },
     "execution_count": 4,
     "metadata": {},
     "output_type": "execute_result"
    }
   ],
   "source": [
    "my_items['Z'] = ['A', 'B', 'C', 'D']\n",
    "dependencies_exist(my_items)"
   ]
  },
  {
   "cell_type": "markdown",
   "metadata": {},
   "source": [
    "All good! Now, let's check for circular dependencies. To do this, we loop over the items in `my_dicts`: for each item, we loop over its dependencies and find the dependencies for the dependencies, and so forth, until we no longer find any new dependencies. Cases where a dependency for an item is that item are marked as circular."
   ]
  },
  {
   "cell_type": "code",
   "execution_count": 5,
   "metadata": {},
   "outputs": [
    {
     "name": "stdout",
     "output_type": "stream",
     "text": [
      "Circular dependency for A\n",
      "Circular dependency for C\n",
      "Circular dependency for E\n",
      "Circular dependency for D\n"
     ]
    },
    {
     "data": {
      "text/plain": [
       "False"
      ]
     },
     "execution_count": 5,
     "metadata": {},
     "output_type": "execute_result"
    }
   ],
   "source": [
    "def list_dependencies(my_items, item):\n",
    "    \"\"\"Find all dependencies for [item] within [my_items].\n",
    "    \"\"\"\n",
    "    dependencies, new_dependencies_count = list(my_items[item]), -1\n",
    "    while new_dependencies_count != 0:\n",
    "        new_dependencies_count = 0\n",
    "        for item in dependencies:\n",
    "            new_dependencies = [new_item for new_item in my_items[item] \n",
    "                                if new_item not in dependencies]\n",
    "            dependencies += new_dependencies\n",
    "            new_dependencies_count += len(new_dependencies)\n",
    "    return dependencies\n",
    "\n",
    "\n",
    "def no_circular_dependencies(my_items):\n",
    "    \"\"\"Check for any circular dependencies in [my_items].\n",
    "    \"\"\"\n",
    "    not_circular = True\n",
    "    for item in my_items.keys():\n",
    "        dependencies = list_dependencies(my_items, item)\n",
    "        if item in dependencies:\n",
    "            not_circular = False\n",
    "            print 'Circular dependency for', item\n",
    "    return not_circular\n",
    "\n",
    "\n",
    "no_circular_dependencies(my_items)"
   ]
  },
  {
   "cell_type": "markdown",
   "metadata": {},
   "source": [
    "There's a circular dependency between items A and E - notice that A is dependent on D, which id dependent on E, which is dependent on A. One way to get rid of this would be to get rid of E's dependency on A. Let's try this and re-run the check."
   ]
  },
  {
   "cell_type": "code",
   "execution_count": 6,
   "metadata": {},
   "outputs": [
    {
     "data": {
      "text/plain": [
       "True"
      ]
     },
     "execution_count": 6,
     "metadata": {},
     "output_type": "execute_result"
    }
   ],
   "source": [
    "my_items['E'] = ['F']\n",
    "no_circular_dependencies(my_items)"
   ]
  },
  {
   "cell_type": "markdown",
   "metadata": {},
   "source": [
    "### Ordering"
   ]
  },
  {
   "cell_type": "markdown",
   "metadata": {},
   "source": [
    "Now, we need to order the dependencies such that they resolve correctly if they are run in order. To do this, we create an `order_dependencies` function that accepts as input `my_items`, and returns a list of keys from `my_items` in order. \n",
    "\n",
    "The algorithm works like so:\n",
    "- Initialize the items (keys of `my_items`) in any order\n",
    "- Set an index to 0\n",
    "- While the index is not equal to the length of the items minus one (to account for zero-indexing):\n",
    "- @ Loop over the dependencies for the item in the items list indexed by *index*\n",
    "- @ If a dependency is to the right of (comes after) the item in the list of items, move the item to the end of the list and re-start the process\n",
    "- @ If no dependencies are to the right of the item, increment the index by 1\n",
    "- Once all items are to the right of all of their respective dependencies, the list is ordered"
   ]
  },
  {
   "cell_type": "code",
   "execution_count": 7,
   "metadata": {},
   "outputs": [
    {
     "data": {
      "text/plain": [
       "['B', 'F', 'E', 'D', 'C', 'A', 'Z']"
      ]
     },
     "execution_count": 7,
     "metadata": {},
     "output_type": "execute_result"
    }
   ],
   "source": [
    "def order_dependencies(my_items):\n",
    "    \"\"\"Order the dependencies in [my_items], returning a list of keys from\n",
    "    [my_items] in order such that all dependencies resolve.\n",
    "    \"\"\"\n",
    "    items, index = my_items.keys(), 0\n",
    "    while (len(items) - 1) != index:\n",
    "        item = items[index]\n",
    "        current_dependencies = list_dependencies(my_items, item)\n",
    "        no_order_change = True\n",
    "        for dependency in current_dependencies:\n",
    "            if items.index(dependency) - items.index(item) > 0:\n",
    "                items += [items.pop(index)]\n",
    "                no_order_change = False\n",
    "                break\n",
    "        if no_order_change:\n",
    "            index += 1\n",
    "    return items\n",
    "\n",
    "\n",
    "order_dependencies(my_items)"
   ]
  },
  {
   "cell_type": "markdown",
   "metadata": {},
   "source": [
    "In terms of algorithmic complexity, we are looking at Ω(n) as our lower bound - if the list is already in order, we still have to loop over every item in that list to ensure that all dependencies are to the left of each item."
   ]
  },
  {
   "cell_type": "markdown",
   "metadata": {},
   "source": [
    "### Creating a `dependencies` class"
   ]
  },
  {
   "cell_type": "markdown",
   "metadata": {},
   "source": [
    "Finally, let's organize all of the above functions into a handy class for ordering dependencies."
   ]
  },
  {
   "cell_type": "code",
   "execution_count": 8,
   "metadata": {
    "collapsed": true
   },
   "outputs": [],
   "source": [
    "class Dependencies(object):\n",
    "    \"\"\"Orders a dictionary of items to their dependencies such that all \n",
    "    dependencies resolve. Initialize the class with the [items] object:\n",
    "\n",
    "    {\n",
    "        'item1': ['dependency1', 'dependency2', ...],\n",
    "        'item2': ['dependency1', 'dependency2', ...],\n",
    "        ...\n",
    "    }\n",
    "\n",
    "    Alternatively, the class can be intiailized with no items, and items can \n",
    "    be added with the add_item method.\n",
    "\n",
    "    The order method returns an OrderedDict of self.items in an order that \n",
    "    resolves all dependencies, and the order_list method does the same but \n",
    "    simply returns a list of item names in order.\n",
    "\n",
    "    This class also ensures that all dependencies exist, and no circular\n",
    "    dependencies exist. These checks happen when calling the order or order_list\n",
    "    methods.\n",
    "    \"\"\"\n",
    "    \n",
    "    def __init__(self, items = {}):\n",
    "        \"\"\"Perform dependency existance and no circular dependencies checks\n",
    "        when initializing a Dependencies object.\n",
    "        \"\"\"\n",
    "        assert isinstance(items, dict), '[items] must be a dict'\n",
    "        assert self.dependencies_exist(items), \\\n",
    "            'One or more dependencies do not exist in [items]'\n",
    "        assert self.no_circular_dependencies(items), \\\n",
    "            'One or more circular dependencies exist in [dependencies]'\n",
    "        self.items = items.copy()\n",
    "        \n",
    "        \n",
    "    @staticmethod\n",
    "    def dependencies_exist(my_items):\n",
    "        \"\"\"Check if the initial dependencies for the items in [my_items] exist \n",
    "        in [my_items].\n",
    "        \"\"\"\n",
    "        all_dependencies_exist = True\n",
    "        for item, dependencies in my_items.items():\n",
    "            for dependency in dependencies:\n",
    "                if dependency not in my_items.keys():\n",
    "                    print 'Non-existant dependency: ({0}, {1})'.format(\n",
    "                        item, dependency)\n",
    "                    all_dependencies_exist = False\n",
    "        return all_dependencies_exist\n",
    "    \n",
    "    \n",
    "    @staticmethod\n",
    "    def list_dependencies(my_items, item):\n",
    "        \"\"\"Find all dependencies for [item] within [my_items].\n",
    "        \"\"\"\n",
    "        dependencies, new_dependencies_count = list(my_items[item]), -1\n",
    "        while new_dependencies_count != 0:\n",
    "            new_dependencies_count = 0\n",
    "            for item in dependencies:\n",
    "                new_dependencies = [new_item for new_item in my_items[item] \n",
    "                                    if new_item not in dependencies]\n",
    "                dependencies += new_dependencies\n",
    "                new_dependencies_count += len(new_dependencies)\n",
    "        return dependencies\n",
    "\n",
    "    \n",
    "    def no_circular_dependencies(self, my_items):\n",
    "        \"\"\"Check for any circular dependencies in [my_items].\n",
    "        \"\"\"\n",
    "        not_circular = True\n",
    "        for item in my_items.keys():\n",
    "            dependencies = self.list_dependencies(my_items, item)\n",
    "            if item in dependencies:\n",
    "                not_circular = False\n",
    "                print 'Circular dependency for', item\n",
    "        return not_circular\n",
    "        \n",
    "        \n",
    "    def add_item(self, item, dependencies = []):\n",
    "        \"\"\"Add a new item to self.dependencies, along with optional dependencies\n",
    "        for that item.\n",
    "        \"\"\"\n",
    "        if self.items.has_key(item):\n",
    "            raise Exception('{0} already an item!'.format(str(item)))\n",
    "        else:\n",
    "            self.items[item] = dependencies\n",
    "            \n",
    "            \n",
    "    def remove_item(self, item):\n",
    "        \"\"\"Add a new item to self.dependencies, along with optional dependencies\n",
    "        for that item.\n",
    "        \"\"\"\n",
    "        if not self.items.has_key(item):\n",
    "            raise Exception('{0} does not exist!'.format(str(item)))\n",
    "        else:\n",
    "            del self.items[item]\n",
    "            \n",
    "            \n",
    "    def modify_item(self, item, dependencies = []):\n",
    "        \"\"\"Modify the dependencies for an item.\n",
    "        \"\"\"\n",
    "        if not self.items.has_key(item):\n",
    "            raise Exception('{0} does not exist!'.format(str(item)))\n",
    "        else:\n",
    "            self.items[item] = dependencies\n",
    "            \n",
    "            \n",
    "    def order_dependencies(self, my_items):\n",
    "        \"\"\"Order the dependencies in [my_items], returning a list of keys from\n",
    "        [my_items] in order such that all dependencies resolve.\n",
    "        \"\"\"\n",
    "        items, index = my_items.keys(), 0\n",
    "        while (len(items) - 1) != index:\n",
    "            item = items[index]\n",
    "            current_dependencies = self.list_dependencies(my_items, item)\n",
    "            no_order_change = True\n",
    "            for dependency in current_dependencies:\n",
    "                if items.index(dependency) - items.index(item) > 0:\n",
    "                    items += [items.pop(index)]\n",
    "                    no_order_change = False\n",
    "                    break\n",
    "            if no_order_change:\n",
    "                index += 1\n",
    "        return items\n",
    "    \n",
    "    \n",
    "    def order(self):\n",
    "        \"\"\"Return self.items as an OrderedDict in an order that resolves\n",
    "        all dependencies.\n",
    "        \"\"\"\n",
    "        self.__init__(self.items)\n",
    "        if self.items:\n",
    "            ordered_items = self.order_dependencies(self.items)\n",
    "            return collections.OrderedDict(\n",
    "                [(item, self.items[item]) for item in ordered_items])\n",
    "        else:\n",
    "            return {}\n",
    "        \n",
    "    \n",
    "    def order_list(self):\n",
    "        \"\"\"Returns the keys of self.items (the item names) in an order \n",
    "        that resolves all dependencies.\n",
    "        \"\"\"\n",
    "        self.__init__(self.items)\n",
    "        if self.items:\n",
    "            return self.order_dependencies(self.items)\n",
    "        else:\n",
    "            return []\n",
    "    \n",
    "    \n",
    "    def __str__(self):\n",
    "        return str(self.items)\n",
    "    \n",
    "    \n",
    "    __repr__ = __str__\n"
   ]
  },
  {
   "cell_type": "markdown",
   "metadata": {},
   "source": [
    "Let's test out the class on `my_items`:"
   ]
  },
  {
   "cell_type": "code",
   "execution_count": 9,
   "metadata": {},
   "outputs": [
    {
     "data": {
      "text/plain": [
       "OrderedDict([('B', []),\n",
       "             ('F', []),\n",
       "             ('E', ['F']),\n",
       "             ('D', ['B', 'E']),\n",
       "             ('C', ['D']),\n",
       "             ('A', ['B', 'C', 'D']),\n",
       "             ('Z', ['A', 'B', 'C', 'D'])])"
      ]
     },
     "execution_count": 9,
     "metadata": {},
     "output_type": "execute_result"
    }
   ],
   "source": [
    "Dependencies(my_items).order()"
   ]
  },
  {
   "cell_type": "code",
   "execution_count": 10,
   "metadata": {},
   "outputs": [
    {
     "data": {
      "text/plain": [
       "True"
      ]
     },
     "execution_count": 10,
     "metadata": {},
     "output_type": "execute_result"
    }
   ],
   "source": [
    "Dependencies(my_items).order_list() == order_dependencies(my_items)"
   ]
  },
  {
   "cell_type": "markdown",
   "metadata": {},
   "source": [
    "We can also manually add, modify, or remove items from a `Dependencies` object. When adding/deleting/modifying the assertions from `__init__` are not run."
   ]
  },
  {
   "cell_type": "code",
   "execution_count": 11,
   "metadata": {},
   "outputs": [
    {
     "data": {
      "text/plain": [
       "{'A': ['B', 'C', 'D'], 'AA': [], 'C': ['D'], 'B': [], 'E': ['A'], 'D': ['B', 'E'], 'F': [], 'Z': ['A', 'B', 'C', 'D', 'Y']}"
      ]
     },
     "execution_count": 11,
     "metadata": {},
     "output_type": "execute_result"
    }
   ],
   "source": [
    "items = Dependencies()\n",
    "items.add_item('A', ['B', 'C', 'D'])\n",
    "items.add_item('B')\n",
    "items.add_item('C', ['D'])\n",
    "items.add_item('D', ['B', 'E'])\n",
    "items.add_item('E', ['A'])\n",
    "items.add_item('F')\n",
    "items.add_item('Z', ['A', 'B', 'C', 'D', 'Y'])\n",
    "items.add_item('AA', [])\n",
    "items"
   ]
  },
  {
   "cell_type": "markdown",
   "metadata": {},
   "source": [
    "Only when we call the `order` or `order_list` methods is `__init__` called and the assertions run."
   ]
  },
  {
   "cell_type": "code",
   "execution_count": 12,
   "metadata": {},
   "outputs": [
    {
     "name": "stdout",
     "output_type": "stream",
     "text": [
      "Non-existant dependency: (Z, Y)\n"
     ]
    },
    {
     "ename": "AssertionError",
     "evalue": "One or more dependencies do not exist in [items]",
     "output_type": "error",
     "traceback": [
      "\u001b[1;31m---------------------------------------------------------------------------\u001b[0m",
      "\u001b[1;31mAssertionError\u001b[0m                            Traceback (most recent call last)",
      "\u001b[1;32m<ipython-input-12-ab53faa28013>\u001b[0m in \u001b[0;36m<module>\u001b[1;34m()\u001b[0m\n\u001b[1;32m----> 1\u001b[1;33m \u001b[0mitems\u001b[0m\u001b[1;33m.\u001b[0m\u001b[0morder\u001b[0m\u001b[1;33m(\u001b[0m\u001b[1;33m)\u001b[0m\u001b[1;33m\u001b[0m\u001b[0m\n\u001b[0m",
      "\u001b[1;32m<ipython-input-8-dde8809438eb>\u001b[0m in \u001b[0;36morder\u001b[1;34m(self)\u001b[0m\n\u001b[0;32m    125\u001b[0m         \u001b[0mall\u001b[0m \u001b[0mdependencies\u001b[0m\u001b[1;33m.\u001b[0m\u001b[1;33m\u001b[0m\u001b[0m\n\u001b[0;32m    126\u001b[0m         \"\"\"\n\u001b[1;32m--> 127\u001b[1;33m         \u001b[0mself\u001b[0m\u001b[1;33m.\u001b[0m\u001b[0m__init__\u001b[0m\u001b[1;33m(\u001b[0m\u001b[0mself\u001b[0m\u001b[1;33m.\u001b[0m\u001b[0mitems\u001b[0m\u001b[1;33m)\u001b[0m\u001b[1;33m\u001b[0m\u001b[0m\n\u001b[0m\u001b[0;32m    128\u001b[0m         \u001b[1;32mif\u001b[0m \u001b[0mself\u001b[0m\u001b[1;33m.\u001b[0m\u001b[0mitems\u001b[0m\u001b[1;33m:\u001b[0m\u001b[1;33m\u001b[0m\u001b[0m\n\u001b[0;32m    129\u001b[0m             \u001b[0mordered_items\u001b[0m \u001b[1;33m=\u001b[0m \u001b[0mself\u001b[0m\u001b[1;33m.\u001b[0m\u001b[0morder_dependencies\u001b[0m\u001b[1;33m(\u001b[0m\u001b[0mself\u001b[0m\u001b[1;33m.\u001b[0m\u001b[0mitems\u001b[0m\u001b[1;33m)\u001b[0m\u001b[1;33m\u001b[0m\u001b[0m\n",
      "\u001b[1;32m<ipython-input-8-dde8809438eb>\u001b[0m in \u001b[0;36m__init__\u001b[1;34m(self, items)\u001b[0m\n\u001b[0;32m     26\u001b[0m         \"\"\"\n\u001b[0;32m     27\u001b[0m         \u001b[1;32massert\u001b[0m \u001b[0misinstance\u001b[0m\u001b[1;33m(\u001b[0m\u001b[0mitems\u001b[0m\u001b[1;33m,\u001b[0m \u001b[0mdict\u001b[0m\u001b[1;33m)\u001b[0m\u001b[1;33m,\u001b[0m \u001b[1;34m'[items] must be a dict'\u001b[0m\u001b[1;33m\u001b[0m\u001b[0m\n\u001b[1;32m---> 28\u001b[1;33m         \u001b[1;32massert\u001b[0m \u001b[0mself\u001b[0m\u001b[1;33m.\u001b[0m\u001b[0mdependencies_exist\u001b[0m\u001b[1;33m(\u001b[0m\u001b[0mitems\u001b[0m\u001b[1;33m)\u001b[0m\u001b[1;33m,\u001b[0m             \u001b[1;34m'One or more dependencies do not exist in [items]'\u001b[0m\u001b[1;33m\u001b[0m\u001b[0m\n\u001b[0m\u001b[0;32m     29\u001b[0m         \u001b[1;32massert\u001b[0m \u001b[0mself\u001b[0m\u001b[1;33m.\u001b[0m\u001b[0mno_circular_dependencies\u001b[0m\u001b[1;33m(\u001b[0m\u001b[0mitems\u001b[0m\u001b[1;33m)\u001b[0m\u001b[1;33m,\u001b[0m             \u001b[1;34m'One or more circular dependencies exist in [dependencies]'\u001b[0m\u001b[1;33m\u001b[0m\u001b[0m\n\u001b[0;32m     30\u001b[0m         \u001b[0mself\u001b[0m\u001b[1;33m.\u001b[0m\u001b[0mitems\u001b[0m \u001b[1;33m=\u001b[0m \u001b[0mitems\u001b[0m\u001b[1;33m.\u001b[0m\u001b[0mcopy\u001b[0m\u001b[1;33m(\u001b[0m\u001b[1;33m)\u001b[0m\u001b[1;33m\u001b[0m\u001b[0m\n",
      "\u001b[1;31mAssertionError\u001b[0m: One or more dependencies do not exist in [items]"
     ]
    }
   ],
   "source": [
    "items.order()"
   ]
  },
  {
   "cell_type": "markdown",
   "metadata": {},
   "source": [
    "Like before, we need to correct for dependencies that do not exist."
   ]
  },
  {
   "cell_type": "code",
   "execution_count": 13,
   "metadata": {},
   "outputs": [
    {
     "name": "stdout",
     "output_type": "stream",
     "text": [
      "Circular dependency for A\n",
      "Circular dependency for C\n",
      "Circular dependency for E\n",
      "Circular dependency for D\n"
     ]
    },
    {
     "ename": "AssertionError",
     "evalue": "One or more circular dependencies exist in [dependencies]",
     "output_type": "error",
     "traceback": [
      "\u001b[1;31m---------------------------------------------------------------------------\u001b[0m",
      "\u001b[1;31mAssertionError\u001b[0m                            Traceback (most recent call last)",
      "\u001b[1;32m<ipython-input-13-483dec5b7305>\u001b[0m in \u001b[0;36m<module>\u001b[1;34m()\u001b[0m\n\u001b[0;32m      1\u001b[0m \u001b[0mitems\u001b[0m\u001b[1;33m.\u001b[0m\u001b[0mmodify_item\u001b[0m\u001b[1;33m(\u001b[0m\u001b[1;34m'Z'\u001b[0m\u001b[1;33m,\u001b[0m \u001b[1;33m[\u001b[0m\u001b[1;34m'A'\u001b[0m\u001b[1;33m,\u001b[0m \u001b[1;34m'B'\u001b[0m\u001b[1;33m,\u001b[0m \u001b[1;34m'C'\u001b[0m\u001b[1;33m,\u001b[0m \u001b[1;34m'D'\u001b[0m\u001b[1;33m]\u001b[0m\u001b[1;33m)\u001b[0m\u001b[1;33m\u001b[0m\u001b[0m\n\u001b[1;32m----> 2\u001b[1;33m \u001b[0mitems\u001b[0m\u001b[1;33m.\u001b[0m\u001b[0morder\u001b[0m\u001b[1;33m(\u001b[0m\u001b[1;33m)\u001b[0m\u001b[1;33m\u001b[0m\u001b[0m\n\u001b[0m",
      "\u001b[1;32m<ipython-input-8-dde8809438eb>\u001b[0m in \u001b[0;36morder\u001b[1;34m(self)\u001b[0m\n\u001b[0;32m    125\u001b[0m         \u001b[0mall\u001b[0m \u001b[0mdependencies\u001b[0m\u001b[1;33m.\u001b[0m\u001b[1;33m\u001b[0m\u001b[0m\n\u001b[0;32m    126\u001b[0m         \"\"\"\n\u001b[1;32m--> 127\u001b[1;33m         \u001b[0mself\u001b[0m\u001b[1;33m.\u001b[0m\u001b[0m__init__\u001b[0m\u001b[1;33m(\u001b[0m\u001b[0mself\u001b[0m\u001b[1;33m.\u001b[0m\u001b[0mitems\u001b[0m\u001b[1;33m)\u001b[0m\u001b[1;33m\u001b[0m\u001b[0m\n\u001b[0m\u001b[0;32m    128\u001b[0m         \u001b[1;32mif\u001b[0m \u001b[0mself\u001b[0m\u001b[1;33m.\u001b[0m\u001b[0mitems\u001b[0m\u001b[1;33m:\u001b[0m\u001b[1;33m\u001b[0m\u001b[0m\n\u001b[0;32m    129\u001b[0m             \u001b[0mordered_items\u001b[0m \u001b[1;33m=\u001b[0m \u001b[0mself\u001b[0m\u001b[1;33m.\u001b[0m\u001b[0morder_dependencies\u001b[0m\u001b[1;33m(\u001b[0m\u001b[0mself\u001b[0m\u001b[1;33m.\u001b[0m\u001b[0mitems\u001b[0m\u001b[1;33m)\u001b[0m\u001b[1;33m\u001b[0m\u001b[0m\n",
      "\u001b[1;32m<ipython-input-8-dde8809438eb>\u001b[0m in \u001b[0;36m__init__\u001b[1;34m(self, items)\u001b[0m\n\u001b[0;32m     27\u001b[0m         \u001b[1;32massert\u001b[0m \u001b[0misinstance\u001b[0m\u001b[1;33m(\u001b[0m\u001b[0mitems\u001b[0m\u001b[1;33m,\u001b[0m \u001b[0mdict\u001b[0m\u001b[1;33m)\u001b[0m\u001b[1;33m,\u001b[0m \u001b[1;34m'[items] must be a dict'\u001b[0m\u001b[1;33m\u001b[0m\u001b[0m\n\u001b[0;32m     28\u001b[0m         \u001b[1;32massert\u001b[0m \u001b[0mself\u001b[0m\u001b[1;33m.\u001b[0m\u001b[0mdependencies_exist\u001b[0m\u001b[1;33m(\u001b[0m\u001b[0mitems\u001b[0m\u001b[1;33m)\u001b[0m\u001b[1;33m,\u001b[0m             \u001b[1;34m'One or more dependencies do not exist in [items]'\u001b[0m\u001b[1;33m\u001b[0m\u001b[0m\n\u001b[1;32m---> 29\u001b[1;33m         \u001b[1;32massert\u001b[0m \u001b[0mself\u001b[0m\u001b[1;33m.\u001b[0m\u001b[0mno_circular_dependencies\u001b[0m\u001b[1;33m(\u001b[0m\u001b[0mitems\u001b[0m\u001b[1;33m)\u001b[0m\u001b[1;33m,\u001b[0m             \u001b[1;34m'One or more circular dependencies exist in [dependencies]'\u001b[0m\u001b[1;33m\u001b[0m\u001b[0m\n\u001b[0m\u001b[0;32m     30\u001b[0m         \u001b[0mself\u001b[0m\u001b[1;33m.\u001b[0m\u001b[0mitems\u001b[0m \u001b[1;33m=\u001b[0m \u001b[0mitems\u001b[0m\u001b[1;33m.\u001b[0m\u001b[0mcopy\u001b[0m\u001b[1;33m(\u001b[0m\u001b[1;33m)\u001b[0m\u001b[1;33m\u001b[0m\u001b[0m\n\u001b[0;32m     31\u001b[0m \u001b[1;33m\u001b[0m\u001b[0m\n",
      "\u001b[1;31mAssertionError\u001b[0m: One or more circular dependencies exist in [dependencies]"
     ]
    }
   ],
   "source": [
    "items.modify_item('Z', ['A', 'B', 'C', 'D'])\n",
    "items.order()"
   ]
  },
  {
   "cell_type": "markdown",
   "metadata": {},
   "source": [
    "And, again, we need to fix the circular dependency between A and E."
   ]
  },
  {
   "cell_type": "code",
   "execution_count": 14,
   "metadata": {},
   "outputs": [
    {
     "data": {
      "text/plain": [
       "OrderedDict([('B', []),\n",
       "             ('F', []),\n",
       "             ('E', ['F']),\n",
       "             ('D', ['B', 'E']),\n",
       "             ('C', ['D']),\n",
       "             ('A', ['B', 'C', 'D']),\n",
       "             ('Z', ['A', 'B', 'C', 'D'])])"
      ]
     },
     "execution_count": 14,
     "metadata": {},
     "output_type": "execute_result"
    }
   ],
   "source": [
    "items.modify_item('E', ['F'])\n",
    "items.remove_item('AA')\n",
    "items.order()"
   ]
  },
  {
   "cell_type": "markdown",
   "metadata": {},
   "source": [
    "All set!"
   ]
  }
 ],
 "metadata": {
  "kernelspec": {
   "display_name": "Python 3",
   "language": "python",
   "name": "python3"
  },
  "language_info": {
   "codemirror_mode": {
    "name": "ipython",
    "version": 3
   },
   "file_extension": ".py",
   "mimetype": "text/x-python",
   "name": "python",
   "nbconvert_exporter": "python",
   "pygments_lexer": "ipython3",
   "version": "3.7.1"
  }
 },
 "nbformat": 4,
 "nbformat_minor": 1
}

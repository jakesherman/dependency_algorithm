{
 "cells": [
  {
   "cell_type": "markdown",
   "metadata": {},
   "source": [
    "# Exploration\n",
    "\n",
    "Exploratory work for solving the problem of (1) a more efficient algorithm for discovering dependencies that (2) handles the cases of \"ties,\" or dependencies that are invarient to one another.\n",
    "\n",
    "## Let's start with (1), the problem with the existing approach\n",
    "\n",
    "Here's an example:"
   ]
  },
  {
   "cell_type": "code",
   "execution_count": 1,
   "metadata": {},
   "outputs": [
    {
     "name": "stdout",
     "output_type": "stream",
     "text": [
      "True\n",
      "True\n"
     ]
    }
   ],
   "source": [
    "# Example dictionary of items we want to resolve dependencies for\n",
    "my_items = {\n",
    "    'A': ['B', 'C', 'D'],  # -- A is dependent on B, C, D,\n",
    "    'B': [],  # -- B is dependent on nothing, etc.\n",
    "    'C': ['D'],\n",
    "    'D': ['B', 'E'],\n",
    "    'E': ['F'],\n",
    "    'F': [],\n",
    "    'Z': ['A', 'B', 'C', 'D']\n",
    "}\n",
    "\n",
    "\n",
    "def dependencies_exist(my_items):\n",
    "    all_dependencies_exist = True\n",
    "    for item, dependencies in my_items.items():\n",
    "        for dependency in dependencies:\n",
    "            if dependency not in my_items.keys():\n",
    "                print('Non-existant dependency: ({0}, {1})').format(\n",
    "                    item, dependency)\n",
    "                all_dependencies_exist = False\n",
    "    return all_dependencies_exist\n",
    "\n",
    "\n",
    "def list_dependencies(my_items, item, verbose=False):\n",
    "    \"\"\"Find all dependencies for [item] within [my_items].\n",
    "    \"\"\"\n",
    "    dependencies, new_dependencies_count = list(my_items[item]), -1\n",
    "    if verbose:\n",
    "        print(\"> Indexing:\", item)\n",
    "    num_indent = 2\n",
    "    while new_dependencies_count != 0:\n",
    "        new_dependencies_count = 0\n",
    "        for item in dependencies:\n",
    "            new_dependencies = [new_item for new_item in my_items[item] \n",
    "                                if new_item not in dependencies]\n",
    "            if verbose:\n",
    "                print(\"{} Indexing:\".format(\">\" * num_indent), item)\n",
    "            dependencies += new_dependencies\n",
    "            new_dependencies_count += len(new_dependencies)\n",
    "        num_indent += 1\n",
    "    return dependencies\n",
    "\n",
    "\n",
    "def no_circular_dependencies(my_items):\n",
    "    \"\"\"Check for any circular dependencies in [my_items].\n",
    "    \"\"\"\n",
    "    not_circular = True\n",
    "    for item in my_items.keys():\n",
    "        dependencies = list_dependencies(my_items, item)\n",
    "        if item in dependencies:\n",
    "            not_circular = False\n",
    "            print('Circular dependency for', item)\n",
    "    return not_circular\n",
    "\n",
    "\n",
    "\n",
    "print(dependencies_exist(my_items))\n",
    "print(no_circular_dependencies(my_items))"
   ]
  },
  {
   "cell_type": "markdown",
   "metadata": {},
   "source": [
    "The problem is that we're repeating many of the computations many, many times!"
   ]
  },
  {
   "cell_type": "code",
   "execution_count": 2,
   "metadata": {},
   "outputs": [
    {
     "name": "stdout",
     "output_type": "stream",
     "text": [
      "Identifying order for: A\n",
      "> Indexing: A\n",
      ">> Indexing: B\n",
      ">> Indexing: C\n",
      ">> Indexing: D\n",
      ">> Indexing: E\n",
      ">> Indexing: F\n",
      ">>> Indexing: B\n",
      ">>> Indexing: C\n",
      ">>> Indexing: D\n",
      ">>> Indexing: E\n",
      ">>> Indexing: F\n",
      "Identifying order for: B\n",
      "> Indexing: B\n",
      "Identifying order for: C\n",
      "> Indexing: C\n",
      ">> Indexing: D\n",
      ">> Indexing: B\n",
      ">> Indexing: E\n",
      ">> Indexing: F\n",
      ">>> Indexing: D\n",
      ">>> Indexing: B\n",
      ">>> Indexing: E\n",
      ">>> Indexing: F\n",
      "Identifying order for: D\n",
      "> Indexing: D\n",
      ">> Indexing: B\n",
      ">> Indexing: E\n",
      ">> Indexing: F\n",
      ">>> Indexing: B\n",
      ">>> Indexing: E\n",
      ">>> Indexing: F\n",
      "Identifying order for: E\n",
      "> Indexing: E\n",
      ">> Indexing: F\n",
      "Identifying order for: F\n",
      "> Indexing: F\n",
      "Identifying order for: Z\n",
      "> Indexing: Z\n",
      ">> Indexing: A\n",
      ">> Indexing: B\n",
      ">> Indexing: C\n",
      ">> Indexing: D\n",
      ">> Indexing: E\n",
      ">> Indexing: F\n",
      ">>> Indexing: A\n",
      ">>> Indexing: B\n",
      ">>> Indexing: C\n",
      ">>> Indexing: D\n",
      ">>> Indexing: E\n",
      ">>> Indexing: F\n",
      "Identifying order for: A\n",
      "> Indexing: A\n",
      ">> Indexing: B\n",
      ">> Indexing: C\n",
      ">> Indexing: D\n",
      ">> Indexing: E\n",
      ">> Indexing: F\n",
      ">>> Indexing: B\n",
      ">>> Indexing: C\n",
      ">>> Indexing: D\n",
      ">>> Indexing: E\n",
      ">>> Indexing: F\n",
      "Identifying order for: C\n",
      "> Indexing: C\n",
      ">> Indexing: D\n",
      ">> Indexing: B\n",
      ">> Indexing: E\n",
      ">> Indexing: F\n",
      ">>> Indexing: D\n",
      ">>> Indexing: B\n",
      ">>> Indexing: E\n",
      ">>> Indexing: F\n",
      "Identifying order for: D\n",
      "> Indexing: D\n",
      ">> Indexing: B\n",
      ">> Indexing: E\n",
      ">> Indexing: F\n",
      ">>> Indexing: B\n",
      ">>> Indexing: E\n",
      ">>> Indexing: F\n",
      "Identifying order for: E\n",
      "> Indexing: E\n",
      ">> Indexing: F\n",
      "Identifying order for: Z\n",
      "> Indexing: Z\n",
      ">> Indexing: A\n",
      ">> Indexing: B\n",
      ">> Indexing: C\n",
      ">> Indexing: D\n",
      ">> Indexing: E\n",
      ">> Indexing: F\n",
      ">>> Indexing: A\n",
      ">>> Indexing: B\n",
      ">>> Indexing: C\n",
      ">>> Indexing: D\n",
      ">>> Indexing: E\n",
      ">>> Indexing: F\n",
      "Identifying order for: A\n",
      "> Indexing: A\n",
      ">> Indexing: B\n",
      ">> Indexing: C\n",
      ">> Indexing: D\n",
      ">> Indexing: E\n",
      ">> Indexing: F\n",
      ">>> Indexing: B\n",
      ">>> Indexing: C\n",
      ">>> Indexing: D\n",
      ">>> Indexing: E\n",
      ">>> Indexing: F\n",
      "Identifying order for: C\n",
      "> Indexing: C\n",
      ">> Indexing: D\n",
      ">> Indexing: B\n",
      ">> Indexing: E\n",
      ">> Indexing: F\n",
      ">>> Indexing: D\n",
      ">>> Indexing: B\n",
      ">>> Indexing: E\n",
      ">>> Indexing: F\n",
      "Identifying order for: D\n",
      "> Indexing: D\n",
      ">> Indexing: B\n",
      ">> Indexing: E\n",
      ">> Indexing: F\n",
      ">>> Indexing: B\n",
      ">>> Indexing: E\n",
      ">>> Indexing: F\n",
      "Identifying order for: Z\n",
      "> Indexing: Z\n",
      ">> Indexing: A\n",
      ">> Indexing: B\n",
      ">> Indexing: C\n",
      ">> Indexing: D\n",
      ">> Indexing: E\n",
      ">> Indexing: F\n",
      ">>> Indexing: A\n",
      ">>> Indexing: B\n",
      ">>> Indexing: C\n",
      ">>> Indexing: D\n",
      ">>> Indexing: E\n",
      ">>> Indexing: F\n",
      "Identifying order for: A\n",
      "> Indexing: A\n",
      ">> Indexing: B\n",
      ">> Indexing: C\n",
      ">> Indexing: D\n",
      ">> Indexing: E\n",
      ">> Indexing: F\n",
      ">>> Indexing: B\n",
      ">>> Indexing: C\n",
      ">>> Indexing: D\n",
      ">>> Indexing: E\n",
      ">>> Indexing: F\n",
      "Identifying order for: C\n",
      "> Indexing: C\n",
      ">> Indexing: D\n",
      ">> Indexing: B\n",
      ">> Indexing: E\n",
      ">> Indexing: F\n",
      ">>> Indexing: D\n",
      ">>> Indexing: B\n",
      ">>> Indexing: E\n",
      ">>> Indexing: F\n",
      "Identifying order for: Z\n",
      "> Indexing: Z\n",
      ">> Indexing: A\n",
      ">> Indexing: B\n",
      ">> Indexing: C\n",
      ">> Indexing: D\n",
      ">> Indexing: E\n",
      ">> Indexing: F\n",
      ">>> Indexing: A\n",
      ">>> Indexing: B\n",
      ">>> Indexing: C\n",
      ">>> Indexing: D\n",
      ">>> Indexing: E\n",
      ">>> Indexing: F\n",
      "Identifying order for: A\n",
      "> Indexing: A\n",
      ">> Indexing: B\n",
      ">> Indexing: C\n",
      ">> Indexing: D\n",
      ">> Indexing: E\n",
      ">> Indexing: F\n",
      ">>> Indexing: B\n",
      ">>> Indexing: C\n",
      ">>> Indexing: D\n",
      ">>> Indexing: E\n",
      ">>> Indexing: F\n"
     ]
    },
    {
     "data": {
      "text/plain": [
       "['B', 'F', 'E', 'D', 'C', 'A', 'Z']"
      ]
     },
     "execution_count": 2,
     "metadata": {},
     "output_type": "execute_result"
    }
   ],
   "source": [
    "def order_dependencies(my_items, verbose=False):\n",
    "    \"\"\"Order the dependencies in [my_items], returning a list of keys from\n",
    "    [my_items] in order such that all dependencies resolve.\n",
    "    \"\"\"\n",
    "    items, index = list(my_items.keys()), 0\n",
    "    while (len(items) - 1) != index:\n",
    "        item = items[index]\n",
    "        if verbose:\n",
    "            print(\"Identifying order for:\", item)\n",
    "        current_dependencies = list_dependencies(my_items, item, verbose=verbose)\n",
    "        no_order_change = True\n",
    "        for dependency in current_dependencies:\n",
    "            if items.index(dependency) - items.index(item) > 0:\n",
    "                items += [items.pop(index)]\n",
    "                no_order_change = False\n",
    "                break\n",
    "        if no_order_change:\n",
    "            index += 1\n",
    "    return items\n",
    "\n",
    "\n",
    "order_dependencies(my_items, verbose=True)"
   ]
  },
  {
   "cell_type": "markdown",
   "metadata": {},
   "source": [
    "Here's a clearer example, where the problem is truly highlighted:"
   ]
  },
  {
   "cell_type": "code",
   "execution_count": 3,
   "metadata": {},
   "outputs": [
    {
     "name": "stdout",
     "output_type": "stream",
     "text": [
      "Identifying order for: A\n",
      "> Indexing: A\n",
      ">> Indexing: B\n",
      ">> Indexing: C\n",
      ">> Indexing: D\n",
      ">>> Indexing: B\n",
      ">>> Indexing: C\n",
      ">>> Indexing: D\n",
      "Identifying order for: B\n",
      "> Indexing: B\n",
      ">> Indexing: C\n",
      ">> Indexing: D\n",
      ">>> Indexing: C\n",
      ">>> Indexing: D\n",
      "Identifying order for: C\n",
      "> Indexing: C\n",
      ">> Indexing: D\n",
      "Identifying order for: D\n",
      "> Indexing: D\n",
      "Identifying order for: A\n",
      "> Indexing: A\n",
      ">> Indexing: B\n",
      ">> Indexing: C\n",
      ">> Indexing: D\n",
      ">>> Indexing: B\n",
      ">>> Indexing: C\n",
      ">>> Indexing: D\n",
      "Identifying order for: B\n",
      "> Indexing: B\n",
      ">> Indexing: C\n",
      ">> Indexing: D\n",
      ">>> Indexing: C\n",
      ">>> Indexing: D\n",
      "Identifying order for: C\n",
      "> Indexing: C\n",
      ">> Indexing: D\n",
      "Identifying order for: A\n",
      "> Indexing: A\n",
      ">> Indexing: B\n",
      ">> Indexing: C\n",
      ">> Indexing: D\n",
      ">>> Indexing: B\n",
      ">>> Indexing: C\n",
      ">>> Indexing: D\n",
      "Identifying order for: B\n",
      "> Indexing: B\n",
      ">> Indexing: C\n",
      ">> Indexing: D\n",
      ">>> Indexing: C\n",
      ">>> Indexing: D\n"
     ]
    },
    {
     "data": {
      "text/plain": [
       "['D', 'C', 'B', 'A']"
      ]
     },
     "execution_count": 3,
     "metadata": {},
     "output_type": "execute_result"
    }
   ],
   "source": [
    "my_items = {\n",
    "    \"A\": [\"B\"],\n",
    "    \"B\": [\"C\"],\n",
    "    \"C\": [\"D\"],\n",
    "    \"D\": []\n",
    "}\n",
    "\n",
    "\n",
    "order_dependencies(my_items, verbose=True)"
   ]
  },
  {
   "cell_type": "markdown",
   "metadata": {},
   "source": [
    "### Solution for (1) using recursion\n",
    "\n",
    "The process for just listing the dependencies should also give us the order, these don't need to be separate steps, perhaps except for getting the ideal ordering."
   ]
  },
  {
   "cell_type": "code",
   "execution_count": 4,
   "metadata": {},
   "outputs": [
    {
     "name": "stdout",
     "output_type": "stream",
     "text": [
      "* Current call stack order: set()\n",
      "Initial item dependencies for Z:  ['A', 'B', 'C', 'D']\n",
      "Current state of known dependencies: {}\n",
      "> Looking into dependency:  A\n",
      "** New deps: None\n",
      ">> Dependency for A unknown, initiating recursive call ..... \n",
      "* Current call stack order: {'A'}\n",
      "Initial item dependencies for A:  ['B', 'C', 'D']\n",
      "Current state of known dependencies: {}\n",
      "> Looking into dependency:  B\n",
      "** New deps: None\n",
      ">> Dependency for B unknown, initiating recursive call ..... \n",
      "* Current call stack order: {'B', 'A'}\n",
      "Initial item dependencies for B:  []\n",
      "Current state of known dependencies: {}\n",
      "& All dependencies for B are known :) they are:  []\n",
      "> Looking into dependency:  C\n",
      "** New deps: None\n",
      ">> Dependency for C unknown, initiating recursive call ..... \n",
      "* Current call stack order: {'B', 'A', 'C'}\n",
      "Initial item dependencies for C:  ['D']\n",
      "Current state of known dependencies: {'B': []}\n",
      "> Looking into dependency:  D\n",
      "** New deps: None\n",
      ">> Dependency for D unknown, initiating recursive call ..... \n",
      "* Current call stack order: {'B', 'D', 'A', 'C'}\n",
      "Initial item dependencies for D:  ['B', 'E']\n",
      "Current state of known dependencies: {'B': []}\n",
      "> Looking into dependency:  B\n",
      "** New deps: []\n",
      ">> Dependency for B known:  []\n",
      "> Looking into dependency:  E\n",
      "** New deps: None\n",
      ">> Dependency for E unknown, initiating recursive call ..... \n",
      "* Current call stack order: {'A', 'E', 'D', 'C', 'B'}\n",
      "Initial item dependencies for E:  ['F']\n",
      "Current state of known dependencies: {'B': []}\n",
      "> Looking into dependency:  F\n",
      "** New deps: None\n",
      ">> Dependency for F unknown, initiating recursive call ..... \n",
      "* Current call stack order: {'A', 'E', 'D', 'F', 'C', 'B'}\n",
      "Initial item dependencies for F:  []\n",
      "Current state of known dependencies: {'B': []}\n",
      "& All dependencies for F are known :) they are:  []\n",
      "& All dependencies for E are known :) they are:  ['F']\n",
      "& All dependencies for D are known :) they are:  ['E', 'F', 'B']\n",
      "& All dependencies for C are known :) they are:  ['E', 'D', 'B', 'F']\n",
      "> Looking into dependency:  D\n",
      "** New deps: ['E', 'F', 'B']\n",
      ">> Dependency for D known:  ['E', 'F', 'B']\n",
      "& All dependencies for A are known :) they are:  ['E', 'D', 'F', 'C', 'B']\n",
      "> Looking into dependency:  B\n",
      "** New deps: []\n",
      ">> Dependency for B known:  []\n",
      "> Looking into dependency:  C\n",
      "** New deps: ['E', 'D', 'B', 'F']\n",
      ">> Dependency for C known:  ['E', 'D', 'B', 'F']\n",
      "> Looking into dependency:  D\n",
      "** New deps: ['E', 'F', 'B']\n",
      ">> Dependency for D known:  ['E', 'F', 'B']\n",
      "& All dependencies for Z are known :) they are:  ['A', 'E', 'D', 'F', 'C', 'B']\n"
     ]
    },
    {
     "data": {
      "text/plain": [
       "(['A', 'E', 'D', 'F', 'C', 'B'],\n",
       " {'B': [],\n",
       "  'F': [],\n",
       "  'E': ['F'],\n",
       "  'D': ['E', 'F', 'B'],\n",
       "  'C': ['E', 'D', 'B', 'F'],\n",
       "  'A': ['E', 'D', 'F', 'C', 'B'],\n",
       "  'Z': ['A', 'E', 'D', 'F', 'C', 'B']},\n",
       " {'A', 'B', 'C', 'D', 'E', 'F'})"
      ]
     },
     "execution_count": 4,
     "metadata": {},
     "output_type": "execute_result"
    }
   ],
   "source": [
    "class CircularDependencyException(Exception):\n",
    "    pass\n",
    "\n",
    "\n",
    "def enhanced_list_dependencies(my_items, item, known_dependencies={}, call_stack_order=set(), debug=False):\n",
    "    \"\"\"List the complete set of items that are dependent on a given item (item) in an \n",
    "    items dictionary (my_items).\n",
    "    \n",
    "    Parameters\n",
    "    ----------\n",
    "    my_items : dict\n",
    "        A dictionary of {item: list of items that this item depends on}\n",
    "        \n",
    "    item : int or str\n",
    "        The item in my_items that we want to return a full list of items that this item\n",
    "        depends on\n",
    "        \n",
    "    known_dependencies : dict (default of an empty dictionary)\n",
    "        A dictionary of {item: list of items that this item depends on} that is known to\n",
    "        be complete. The difference between this and my_items is that, for example, if \n",
    "        A is dependent on B which is dependent on C which is dependent on nothing, \n",
    "        my_items might look like:\n",
    "        \n",
    "        {\n",
    "            \"A\": \"B\",\n",
    "            \"B\": \"C\",\n",
    "            \"C\": []\n",
    "        }\n",
    "        \n",
    "        whereas known_dependencies, when it is complete, will look like:\n",
    "        \n",
    "        {\n",
    "            \"A\": [\"B\", \"C\"],\n",
    "            \"B\": [\"C\"],\n",
    "            \"C\": []\n",
    "        }\n",
    "        \n",
    "        This function will use known_dependencies as a cache to store known complete\n",
    "        dependencies. \n",
    "        \n",
    "    call_stack_order : set\n",
    "        Whenever we have NOT cached the dependencies for an item, we recursively call \n",
    "        this function to find that item's dependencies. When this happens, we add the \n",
    "        item that we are recursively calling this function for to the call_stack_order. \n",
    "        Each item should only be appearing once in this list because we cache (basically\n",
    "        memoize) the results of each recursive call. The reason we keep this list is to\n",
    "        discover circular dependencies, aka when item 1 is dependent on item 2 which is\n",
    "        dependent on item 1, and so forth. If we don't save call_stack_order and use it\n",
    "        to discover circular dependencies, circular dependencies will result in an infinite\n",
    "        loop of recursive calls, and will raise an exception when Python's recurssion\n",
    "        limit is reached.\n",
    "        \n",
    "    debug : bool (default of False)\n",
    "        In debug mode, this function will print out statements as it recursively travels\n",
    "        the tree of dependencies. \n",
    "    \n",
    "    Returns\n",
    "    -------\n",
    "    item_dependencies : list\n",
    "        The complete list of items that [item] depends on in [my_items]\n",
    "    \n",
    "    known_dependencies : dict\n",
    "        See above, primarily used as a caching mechanism. If the goal here was just to \n",
    "        list the complete set of items that an item depends on, we could probably just\n",
    "        add memoization to this function, but the benefit of using known_dependencies\n",
    "        is that we can re-use it when looping through an entire items dictionary\n",
    "    \n",
    "    \"\"\"\n",
    "    \n",
    "    # List of dependnecies for an item, initially populate with the known dependencies\n",
    "    item_dependencies = my_items[item]\n",
    "    if not isinstance(item_dependencies, list):\n",
    "        item_dependencies = list(item_dependencies)  # -- force everything into lists\n",
    "        \n",
    "    if debug:\n",
    "        print(\"* Current call stack order:\", call_stack_order)\n",
    "        print(\"Initial item dependencies for {}: \".format(item), item_dependencies)\n",
    "        print(\"Current state of known dependencies:\", known_dependencies)\n",
    "        \n",
    "    \n",
    "    # Traverse the tree of dependencies\n",
    "    for dependency in item_dependencies:\n",
    "        \n",
    "            \n",
    "        # Check to see if we've already cached the dependency or not...\n",
    "        new_dependencies = known_dependencies.get(dependency)\n",
    "        \n",
    "        if debug:\n",
    "            print(\"> Looking into dependency: \", dependency)\n",
    "            print(\"** New deps:\", new_dependencies)\n",
    "            \n",
    "        if new_dependencies is not None:\n",
    "            \n",
    "            # We HAVE cached the dependencies\n",
    "            if debug:\n",
    "                print(\">> Dependency for {} known: \".format(dependency), new_dependencies)\n",
    "           \n",
    "        else:\n",
    "            \n",
    "            # We have NOT cached the dependencies\n",
    "            if debug:\n",
    "                print(\">> Dependency for {} unknown, initiating recursive call ..... \".format(dependency))\n",
    "            \n",
    "            if dependency in call_stack_order:\n",
    "                raise CircularDependencyException(\"Circular dependency with item: {}\".format(dependency))\n",
    "            else:\n",
    "                call_stack_order.add(dependency)\n",
    "            \n",
    "            # Rececursively call this function until we known all of the possible dependencies\n",
    "            new_dependencies, known_dependencies, call_stack_order = enhanced_list_dependencies(\n",
    "                my_items=my_items, \n",
    "                item=dependency, \n",
    "                known_dependencies=known_dependencies,\n",
    "                call_stack_order=call_stack_order,\n",
    "                debug=debug\n",
    "            ) \n",
    "        \n",
    "        if new_dependencies:\n",
    "                \n",
    "            # Merge the existing and newly discovered dependencies\n",
    "            item_dependencies = list(set(item_dependencies + new_dependencies))\n",
    "            \n",
    "    # When we have all of an item's dependencies, add them to the cache, and return the list of\n",
    "    # the item's dependencies\n",
    "    if debug:\n",
    "        print(\"& All dependencies for {} are known :) they are: \".format(item), item_dependencies)\n",
    "    known_dependencies[item] = item_dependencies\n",
    "    return item_dependencies, known_dependencies, call_stack_order\n",
    "                          \n",
    "\n",
    "my_items = {\n",
    "    'A': ['B', 'C', 'D'],  # -- A is dependent on B, C, D,\n",
    "    'B': [],  # -- B is dependent on nothing, etc.\n",
    "    'C': ['D'],\n",
    "    'D': ['B', 'E'],\n",
    "    'E': ['F'],\n",
    "    'F': [],\n",
    "    'Z': ['A', 'B', 'C', 'D']\n",
    "}\n",
    "\n",
    "enhanced_list_dependencies(my_items, \"Z\", known_dependencies={}, call_stack_order=set(), debug=True)"
   ]
  },
  {
   "cell_type": "code",
   "execution_count": 5,
   "metadata": {},
   "outputs": [
    {
     "name": "stdout",
     "output_type": "stream",
     "text": [
      "* Current call stack order: set()\n",
      "Initial item dependencies for A:  ['B']\n",
      "Current state of known dependencies: {}\n",
      "> Looking into dependency:  B\n",
      "** New deps: None\n",
      ">> Dependency for B unknown, initiating recursive call ..... \n",
      "* Current call stack order: {'B'}\n",
      "Initial item dependencies for B:  ['C']\n",
      "Current state of known dependencies: {}\n",
      "> Looking into dependency:  C\n",
      "** New deps: None\n",
      ">> Dependency for C unknown, initiating recursive call ..... \n",
      "* Current call stack order: {'B', 'C'}\n",
      "Initial item dependencies for C:  ['D']\n",
      "Current state of known dependencies: {}\n",
      "> Looking into dependency:  D\n",
      "** New deps: None\n",
      ">> Dependency for D unknown, initiating recursive call ..... \n",
      "* Current call stack order: {'D', 'B', 'C'}\n",
      "Initial item dependencies for D:  []\n",
      "Current state of known dependencies: {}\n",
      "& All dependencies for D are known :) they are:  []\n",
      "& All dependencies for C are known :) they are:  ['D']\n",
      "& All dependencies for B are known :) they are:  ['D', 'C']\n",
      "& All dependencies for A are known :) they are:  ['D', 'B', 'C']\n"
     ]
    },
    {
     "data": {
      "text/plain": [
       "(['D', 'B', 'C'],\n",
       " {'D': [], 'C': ['D'], 'B': ['D', 'C'], 'A': ['D', 'B', 'C']},\n",
       " {'B', 'C', 'D'})"
      ]
     },
     "execution_count": 5,
     "metadata": {},
     "output_type": "execute_result"
    }
   ],
   "source": [
    "my_items = {\n",
    "    \"A\": [\"B\"],\n",
    "    \"B\": [\"C\"],\n",
    "    \"C\": [\"D\"],\n",
    "    \"D\": []\n",
    "}\n",
    "        \n",
    "        \n",
    "enhanced_list_dependencies(my_items, \"A\", known_dependencies={}, call_stack_order=set(), debug=True)"
   ]
  },
  {
   "cell_type": "code",
   "execution_count": 6,
   "metadata": {},
   "outputs": [
    {
     "name": "stdout",
     "output_type": "stream",
     "text": [
      "Non-existant dependency: (Z, Y)\n",
      "All dependencies exist: False\n",
      "Let's fix this...but add in a circular dependency\n",
      "* Current call stack order: set()\n",
      "Initial item dependencies for Z:  ['A', 'B', 'C', 'D']\n",
      "Current state of known dependencies: {}\n",
      "> Looking into dependency:  A\n",
      "** New deps: None\n",
      ">> Dependency for A unknown, initiating recursive call ..... \n",
      "* Current call stack order: {'A'}\n",
      "Initial item dependencies for A:  ['B', 'C', 'D']\n",
      "Current state of known dependencies: {}\n",
      "> Looking into dependency:  B\n",
      "** New deps: None\n",
      ">> Dependency for B unknown, initiating recursive call ..... \n",
      "* Current call stack order: {'B', 'A'}\n",
      "Initial item dependencies for B:  []\n",
      "Current state of known dependencies: {}\n",
      "& All dependencies for B are known :) they are:  []\n",
      "> Looking into dependency:  C\n",
      "** New deps: None\n",
      ">> Dependency for C unknown, initiating recursive call ..... \n",
      "* Current call stack order: {'B', 'A', 'C'}\n",
      "Initial item dependencies for C:  ['D']\n",
      "Current state of known dependencies: {'B': []}\n",
      "> Looking into dependency:  D\n",
      "** New deps: None\n",
      ">> Dependency for D unknown, initiating recursive call ..... \n",
      "* Current call stack order: {'B', 'D', 'A', 'C'}\n",
      "Initial item dependencies for D:  ['B', 'E']\n",
      "Current state of known dependencies: {'B': []}\n",
      "> Looking into dependency:  B\n",
      "** New deps: []\n",
      ">> Dependency for B known:  []\n",
      "> Looking into dependency:  E\n",
      "** New deps: None\n",
      ">> Dependency for E unknown, initiating recursive call ..... \n",
      "* Current call stack order: {'A', 'E', 'D', 'C', 'B'}\n",
      "Initial item dependencies for E:  ['A']\n",
      "Current state of known dependencies: {'B': []}\n",
      "> Looking into dependency:  A\n",
      "** New deps: None\n",
      ">> Dependency for A unknown, initiating recursive call ..... \n"
     ]
    },
    {
     "ename": "CircularDependencyException",
     "evalue": "Circular dependency with item: A",
     "output_type": "error",
     "traceback": [
      "\u001b[0;31m---------------------------------------------------------------------------\u001b[0m",
      "\u001b[0;31mCircularDependencyException\u001b[0m               Traceback (most recent call last)",
      "\u001b[0;32m<ipython-input-6-c6f7424c474e>\u001b[0m in \u001b[0;36m<module>\u001b[0;34m\u001b[0m\n\u001b[1;32m     27\u001b[0m \u001b[0;34m\u001b[0m\u001b[0m\n\u001b[1;32m     28\u001b[0m \u001b[0;31m## PROBLEM: THE EXISTING enhanced_list_dependencies FUNCTION FAILS FOR CIRCULAR DEPENDENCIES! WE NEED TO FIX THIS!!!\u001b[0m\u001b[0;34m\u001b[0m\u001b[0;34m\u001b[0m\u001b[0;34m\u001b[0m\u001b[0m\n\u001b[0;32m---> 29\u001b[0;31m \u001b[0mresults\u001b[0m \u001b[0;34m=\u001b[0m \u001b[0menhanced_list_dependencies\u001b[0m\u001b[0;34m(\u001b[0m\u001b[0mmy_items\u001b[0m\u001b[0;34m,\u001b[0m \u001b[0;34m\"Z\"\u001b[0m\u001b[0;34m,\u001b[0m \u001b[0mknown_dependencies\u001b[0m\u001b[0;34m=\u001b[0m\u001b[0;34m{\u001b[0m\u001b[0;34m}\u001b[0m\u001b[0;34m,\u001b[0m \u001b[0mcall_stack_order\u001b[0m\u001b[0;34m=\u001b[0m\u001b[0mset\u001b[0m\u001b[0;34m(\u001b[0m\u001b[0;34m)\u001b[0m\u001b[0;34m,\u001b[0m \u001b[0mdebug\u001b[0m\u001b[0;34m=\u001b[0m\u001b[0;32mTrue\u001b[0m\u001b[0;34m)\u001b[0m\u001b[0;34m\u001b[0m\u001b[0;34m\u001b[0m\u001b[0m\n\u001b[0m",
      "\u001b[0;32m<ipython-input-4-d609ae93f5a3>\u001b[0m in \u001b[0;36menhanced_list_dependencies\u001b[0;34m(my_items, item, known_dependencies, call_stack_order, debug)\u001b[0m\n\u001b[1;32m    113\u001b[0m                 \u001b[0mknown_dependencies\u001b[0m\u001b[0;34m=\u001b[0m\u001b[0mknown_dependencies\u001b[0m\u001b[0;34m,\u001b[0m\u001b[0;34m\u001b[0m\u001b[0;34m\u001b[0m\u001b[0m\n\u001b[1;32m    114\u001b[0m                 \u001b[0mcall_stack_order\u001b[0m\u001b[0;34m=\u001b[0m\u001b[0mcall_stack_order\u001b[0m\u001b[0;34m,\u001b[0m\u001b[0;34m\u001b[0m\u001b[0;34m\u001b[0m\u001b[0m\n\u001b[0;32m--> 115\u001b[0;31m                 \u001b[0mdebug\u001b[0m\u001b[0;34m=\u001b[0m\u001b[0mdebug\u001b[0m\u001b[0;34m\u001b[0m\u001b[0;34m\u001b[0m\u001b[0m\n\u001b[0m\u001b[1;32m    116\u001b[0m             ) \n\u001b[1;32m    117\u001b[0m \u001b[0;34m\u001b[0m\u001b[0m\n",
      "\u001b[0;32m<ipython-input-4-d609ae93f5a3>\u001b[0m in \u001b[0;36menhanced_list_dependencies\u001b[0;34m(my_items, item, known_dependencies, call_stack_order, debug)\u001b[0m\n\u001b[1;32m    113\u001b[0m                 \u001b[0mknown_dependencies\u001b[0m\u001b[0;34m=\u001b[0m\u001b[0mknown_dependencies\u001b[0m\u001b[0;34m,\u001b[0m\u001b[0;34m\u001b[0m\u001b[0;34m\u001b[0m\u001b[0m\n\u001b[1;32m    114\u001b[0m                 \u001b[0mcall_stack_order\u001b[0m\u001b[0;34m=\u001b[0m\u001b[0mcall_stack_order\u001b[0m\u001b[0;34m,\u001b[0m\u001b[0;34m\u001b[0m\u001b[0;34m\u001b[0m\u001b[0m\n\u001b[0;32m--> 115\u001b[0;31m                 \u001b[0mdebug\u001b[0m\u001b[0;34m=\u001b[0m\u001b[0mdebug\u001b[0m\u001b[0;34m\u001b[0m\u001b[0;34m\u001b[0m\u001b[0m\n\u001b[0m\u001b[1;32m    116\u001b[0m             ) \n\u001b[1;32m    117\u001b[0m \u001b[0;34m\u001b[0m\u001b[0m\n",
      "\u001b[0;32m<ipython-input-4-d609ae93f5a3>\u001b[0m in \u001b[0;36menhanced_list_dependencies\u001b[0;34m(my_items, item, known_dependencies, call_stack_order, debug)\u001b[0m\n\u001b[1;32m    113\u001b[0m                 \u001b[0mknown_dependencies\u001b[0m\u001b[0;34m=\u001b[0m\u001b[0mknown_dependencies\u001b[0m\u001b[0;34m,\u001b[0m\u001b[0;34m\u001b[0m\u001b[0;34m\u001b[0m\u001b[0m\n\u001b[1;32m    114\u001b[0m                 \u001b[0mcall_stack_order\u001b[0m\u001b[0;34m=\u001b[0m\u001b[0mcall_stack_order\u001b[0m\u001b[0;34m,\u001b[0m\u001b[0;34m\u001b[0m\u001b[0;34m\u001b[0m\u001b[0m\n\u001b[0;32m--> 115\u001b[0;31m                 \u001b[0mdebug\u001b[0m\u001b[0;34m=\u001b[0m\u001b[0mdebug\u001b[0m\u001b[0;34m\u001b[0m\u001b[0;34m\u001b[0m\u001b[0m\n\u001b[0m\u001b[1;32m    116\u001b[0m             ) \n\u001b[1;32m    117\u001b[0m \u001b[0;34m\u001b[0m\u001b[0m\n",
      "\u001b[0;32m<ipython-input-4-d609ae93f5a3>\u001b[0m in \u001b[0;36menhanced_list_dependencies\u001b[0;34m(my_items, item, known_dependencies, call_stack_order, debug)\u001b[0m\n\u001b[1;32m    113\u001b[0m                 \u001b[0mknown_dependencies\u001b[0m\u001b[0;34m=\u001b[0m\u001b[0mknown_dependencies\u001b[0m\u001b[0;34m,\u001b[0m\u001b[0;34m\u001b[0m\u001b[0;34m\u001b[0m\u001b[0m\n\u001b[1;32m    114\u001b[0m                 \u001b[0mcall_stack_order\u001b[0m\u001b[0;34m=\u001b[0m\u001b[0mcall_stack_order\u001b[0m\u001b[0;34m,\u001b[0m\u001b[0;34m\u001b[0m\u001b[0;34m\u001b[0m\u001b[0m\n\u001b[0;32m--> 115\u001b[0;31m                 \u001b[0mdebug\u001b[0m\u001b[0;34m=\u001b[0m\u001b[0mdebug\u001b[0m\u001b[0;34m\u001b[0m\u001b[0;34m\u001b[0m\u001b[0m\n\u001b[0m\u001b[1;32m    116\u001b[0m             ) \n\u001b[1;32m    117\u001b[0m \u001b[0;34m\u001b[0m\u001b[0m\n",
      "\u001b[0;32m<ipython-input-4-d609ae93f5a3>\u001b[0m in \u001b[0;36menhanced_list_dependencies\u001b[0;34m(my_items, item, known_dependencies, call_stack_order, debug)\u001b[0m\n\u001b[1;32m    103\u001b[0m \u001b[0;34m\u001b[0m\u001b[0m\n\u001b[1;32m    104\u001b[0m             \u001b[0;32mif\u001b[0m \u001b[0mdependency\u001b[0m \u001b[0;32min\u001b[0m \u001b[0mcall_stack_order\u001b[0m\u001b[0;34m:\u001b[0m\u001b[0;34m\u001b[0m\u001b[0;34m\u001b[0m\u001b[0m\n\u001b[0;32m--> 105\u001b[0;31m                 \u001b[0;32mraise\u001b[0m \u001b[0mCircularDependencyException\u001b[0m\u001b[0;34m(\u001b[0m\u001b[0;34m\"Circular dependency with item: {}\"\u001b[0m\u001b[0;34m.\u001b[0m\u001b[0mformat\u001b[0m\u001b[0;34m(\u001b[0m\u001b[0mdependency\u001b[0m\u001b[0;34m)\u001b[0m\u001b[0;34m)\u001b[0m\u001b[0;34m\u001b[0m\u001b[0;34m\u001b[0m\u001b[0m\n\u001b[0m\u001b[1;32m    106\u001b[0m             \u001b[0;32melse\u001b[0m\u001b[0;34m:\u001b[0m\u001b[0;34m\u001b[0m\u001b[0;34m\u001b[0m\u001b[0m\n\u001b[1;32m    107\u001b[0m                 \u001b[0mcall_stack_order\u001b[0m\u001b[0;34m.\u001b[0m\u001b[0madd\u001b[0m\u001b[0;34m(\u001b[0m\u001b[0mdependency\u001b[0m\u001b[0;34m)\u001b[0m\u001b[0;34m\u001b[0m\u001b[0;34m\u001b[0m\u001b[0m\n",
      "\u001b[0;31mCircularDependencyException\u001b[0m: Circular dependency with item: A"
     ]
    }
   ],
   "source": [
    "def dependencies_exist(my_items, verbose=True):\n",
    "    all_dependencies_exist = True\n",
    "    possible_dependencies = list(my_items.keys())\n",
    "    for item, dependencies in my_items.items():\n",
    "        for dependency in dependencies:\n",
    "            if dependency not in possible_dependencies:\n",
    "                if verbose:\n",
    "                    print(\"Non-existant dependency: ({0}, {1})\".format(item, dependency))\n",
    "                all_dependencies_exist = False\n",
    "    return all_dependencies_exist\n",
    "\n",
    "\n",
    "# Example dictionary of items we want to resolve dependencies for\n",
    "my_items = {\n",
    "    'A': ['B', 'C', 'D'],  # -- A is dependent on B, C, D,\n",
    "    'B': [],  # -- B is dependent on nothing, etc.\n",
    "    'C': ['D'],\n",
    "    'D': ['B', 'E'],\n",
    "    'E': ['A'],\n",
    "    'F': [],\n",
    "    'Z': ['A', 'B', 'C', 'D', 'Y']\n",
    "}\n",
    "\n",
    "print(\"All dependencies exist:\", dependencies_exist(my_items))\n",
    "print(\"Let's fix this...but add in a circular dependency\")\n",
    "my_items['Z'] = ['A', 'B', 'C', 'D']\n",
    "\n",
    "## PROBLEM: THE EXISTING enhanced_list_dependencies FUNCTION FAILS FOR CIRCULAR DEPENDENCIES! WE NEED TO FIX THIS!!!\n",
    "results = enhanced_list_dependencies(my_items, \"Z\", known_dependencies={}, call_stack_order=set(), debug=True)"
   ]
  },
  {
   "cell_type": "markdown",
   "metadata": {},
   "source": [
    "Notice that the order of keys in the `known_dependencies` dict returned by `enhanced_list_dependencies` is giving us the same order as `order_dependencies` :)\n",
    "\n",
    "--------------------\n",
    "\n",
    "Now, let's try saving `known_dependencies` and looping through all of the keys in `my_items` to find the dependencies for each, starting with `B`"
   ]
  },
  {
   "cell_type": "code",
   "execution_count": 7,
   "metadata": {},
   "outputs": [
    {
     "name": "stdout",
     "output_type": "stream",
     "text": [
      "* Current call stack order: set()\n",
      "Initial item dependencies for B:  []\n",
      "Current state of known dependencies: {}\n",
      "& All dependencies for B are known :) they are:  []\n"
     ]
    }
   ],
   "source": [
    "my_items = {\n",
    "    'A': ['B', 'C', 'D'],  # -- A is dependent on B, C, D,\n",
    "    'B': [],  # -- B is dependent on nothing, etc.\n",
    "    'C': ['D'],\n",
    "    'D': ['B', 'E'],\n",
    "    'E': ['F'],\n",
    "    'F': [],\n",
    "    'Z': ['A', 'B', 'C', 'D']\n",
    "}\n",
    "\n",
    "deps, known_dependencies, call_stack_order = enhanced_list_dependencies(\n",
    "    my_items, \"B\", known_dependencies={}, call_stack_order=set(), debug=True)"
   ]
  },
  {
   "cell_type": "markdown",
   "metadata": {},
   "source": [
    "Now let's get `D`, which should already know the result of `B`"
   ]
  },
  {
   "cell_type": "code",
   "execution_count": 8,
   "metadata": {},
   "outputs": [
    {
     "name": "stdout",
     "output_type": "stream",
     "text": [
      "* Current call stack order: set()\n",
      "Initial item dependencies for D:  ['B', 'E']\n",
      "Current state of known dependencies: {'B': []}\n",
      "> Looking into dependency:  B\n",
      "** New deps: []\n",
      ">> Dependency for B known:  []\n",
      "> Looking into dependency:  E\n",
      "** New deps: None\n",
      ">> Dependency for E unknown, initiating recursive call ..... \n",
      "* Current call stack order: {'E'}\n",
      "Initial item dependencies for E:  ['F']\n",
      "Current state of known dependencies: {'B': []}\n",
      "> Looking into dependency:  F\n",
      "** New deps: None\n",
      ">> Dependency for F unknown, initiating recursive call ..... \n",
      "* Current call stack order: {'E', 'F'}\n",
      "Initial item dependencies for F:  []\n",
      "Current state of known dependencies: {'B': []}\n",
      "& All dependencies for F are known :) they are:  []\n",
      "& All dependencies for E are known :) they are:  ['F']\n",
      "& All dependencies for D are known :) they are:  ['E', 'F', 'B']\n"
     ]
    }
   ],
   "source": [
    "deps, known_dependencies, call_stack_order = enhanced_list_dependencies(\n",
    "    my_items, \"D\", known_dependencies=known_dependencies, call_stack_order=set(), debug=True)"
   ]
  },
  {
   "cell_type": "markdown",
   "metadata": {},
   "source": [
    "And `E` and `F`, which should already be known"
   ]
  },
  {
   "cell_type": "code",
   "execution_count": 9,
   "metadata": {},
   "outputs": [
    {
     "name": "stdout",
     "output_type": "stream",
     "text": [
      "* Current call stack order: set()\n",
      "Initial item dependencies for E:  ['F']\n",
      "Current state of known dependencies: {'B': [], 'F': [], 'E': ['F'], 'D': ['E', 'F', 'B']}\n",
      "> Looking into dependency:  F\n",
      "** New deps: []\n",
      ">> Dependency for F known:  []\n",
      "& All dependencies for E are known :) they are:  ['F']\n"
     ]
    }
   ],
   "source": [
    "deps, known_dependencies, call_stack_order = enhanced_list_dependencies(\n",
    "    my_items, \"E\", known_dependencies=known_dependencies, call_stack_order=set(), debug=True)"
   ]
  },
  {
   "cell_type": "code",
   "execution_count": 10,
   "metadata": {},
   "outputs": [
    {
     "name": "stdout",
     "output_type": "stream",
     "text": [
      "* Current call stack order: set()\n",
      "Initial item dependencies for F:  []\n",
      "Current state of known dependencies: {'B': [], 'F': [], 'E': ['F'], 'D': ['E', 'F', 'B']}\n",
      "& All dependencies for F are known :) they are:  []\n"
     ]
    }
   ],
   "source": [
    "deps, known_dependencies, call_stack_order = enhanced_list_dependencies(\n",
    "    my_items, \"F\", known_dependencies=known_dependencies, call_stack_order=set(), debug=True)"
   ]
  },
  {
   "cell_type": "markdown",
   "metadata": {},
   "source": [
    "And `C`, which should only call `D` which is already known"
   ]
  },
  {
   "cell_type": "code",
   "execution_count": 11,
   "metadata": {},
   "outputs": [
    {
     "name": "stdout",
     "output_type": "stream",
     "text": [
      "* Current call stack order: set()\n",
      "Initial item dependencies for C:  ['D']\n",
      "Current state of known dependencies: {'B': [], 'F': [], 'E': ['F'], 'D': ['E', 'F', 'B']}\n",
      "> Looking into dependency:  D\n",
      "** New deps: ['E', 'F', 'B']\n",
      ">> Dependency for D known:  ['E', 'F', 'B']\n",
      "& All dependencies for C are known :) they are:  ['E', 'D', 'B', 'F']\n"
     ]
    }
   ],
   "source": [
    "deps, known_dependencies, call_stack_order = enhanced_list_dependencies(\n",
    "    my_items, \"C\", known_dependencies=known_dependencies, call_stack_order=set(), debug=True)"
   ]
  },
  {
   "cell_type": "markdown",
   "metadata": {},
   "source": [
    "And `A`, which should call `B`, `C`, and `D` which are all already known"
   ]
  },
  {
   "cell_type": "code",
   "execution_count": 12,
   "metadata": {},
   "outputs": [
    {
     "name": "stdout",
     "output_type": "stream",
     "text": [
      "* Current call stack order: set()\n",
      "Initial item dependencies for A:  ['B', 'C', 'D']\n",
      "Current state of known dependencies: {'B': [], 'F': [], 'E': ['F'], 'D': ['E', 'F', 'B'], 'C': ['E', 'D', 'B', 'F']}\n",
      "> Looking into dependency:  B\n",
      "** New deps: []\n",
      ">> Dependency for B known:  []\n",
      "> Looking into dependency:  C\n",
      "** New deps: ['E', 'D', 'B', 'F']\n",
      ">> Dependency for C known:  ['E', 'D', 'B', 'F']\n",
      "> Looking into dependency:  D\n",
      "** New deps: ['E', 'F', 'B']\n",
      ">> Dependency for D known:  ['E', 'F', 'B']\n",
      "& All dependencies for A are known :) they are:  ['E', 'D', 'F', 'C', 'B']\n"
     ]
    }
   ],
   "source": [
    "deps, known_dependencies, call_stack_order = enhanced_list_dependencies(\n",
    "    my_items, \"A\", known_dependencies=known_dependencies, call_stack_order=set(), debug=True)"
   ]
  },
  {
   "cell_type": "markdown",
   "metadata": {},
   "source": [
    "And, finally, `Z`"
   ]
  },
  {
   "cell_type": "code",
   "execution_count": 13,
   "metadata": {},
   "outputs": [
    {
     "name": "stdout",
     "output_type": "stream",
     "text": [
      "* Current call stack order: set()\n",
      "Initial item dependencies for Z:  ['A', 'B', 'C', 'D']\n",
      "Current state of known dependencies: {'B': [], 'F': [], 'E': ['F'], 'D': ['E', 'F', 'B'], 'C': ['E', 'D', 'B', 'F'], 'A': ['E', 'D', 'F', 'C', 'B']}\n",
      "> Looking into dependency:  A\n",
      "** New deps: ['E', 'D', 'F', 'C', 'B']\n",
      ">> Dependency for A known:  ['E', 'D', 'F', 'C', 'B']\n",
      "> Looking into dependency:  B\n",
      "** New deps: []\n",
      ">> Dependency for B known:  []\n",
      "> Looking into dependency:  C\n",
      "** New deps: ['E', 'D', 'B', 'F']\n",
      ">> Dependency for C known:  ['E', 'D', 'B', 'F']\n",
      "> Looking into dependency:  D\n",
      "** New deps: ['E', 'F', 'B']\n",
      ">> Dependency for D known:  ['E', 'F', 'B']\n",
      "& All dependencies for Z are known :) they are:  ['A', 'E', 'D', 'F', 'C', 'B']\n"
     ]
    }
   ],
   "source": [
    "deps, known_dependencies, call_stack_order = enhanced_list_dependencies(\n",
    "    my_items, \"Z\", known_dependencies=known_dependencies, call_stack_order=set(), debug=True)"
   ]
  },
  {
   "cell_type": "markdown",
   "metadata": {},
   "source": [
    "#### Comparing the new and old algorithms"
   ]
  },
  {
   "cell_type": "code",
   "execution_count": 14,
   "metadata": {},
   "outputs": [],
   "source": [
    "def extreme_dependency_generator(dependency_depth):\n",
    "    \"\"\"Generate a list of items where each item is dependent on the subsequent item, aka an \n",
    "    extreme case of dependencies.\n",
    "    \"\"\"\n",
    "    items_with_dependencies = {}\n",
    "    for number in range(1, dependency_depth):\n",
    "        items_with_dependencies[number] = [number + 1]\n",
    "    items_with_dependencies[dependency_depth] = []\n",
    "    return items_with_dependencies"
   ]
  },
  {
   "cell_type": "code",
   "execution_count": 15,
   "metadata": {},
   "outputs": [
    {
     "name": "stdout",
     "output_type": "stream",
     "text": [
      "CPU times: user 0 ns, sys: 0 ns, total: 0 ns\n",
      "Wall time: 672 µs\n"
     ]
    }
   ],
   "source": [
    "%%time\n",
    "\n",
    "results = enhanced_list_dependencies(extreme_dependency_generator(100), 1, known_dependencies={}, \n",
    "                                     call_stack_order=set(), debug=False)"
   ]
  },
  {
   "cell_type": "markdown",
   "metadata": {},
   "source": [
    "How does the running time for the recursion depth of 100 compare with the old algorithm?\n",
    "\n",
    "* ANSWER: No faster :O"
   ]
  },
  {
   "cell_type": "code",
   "execution_count": 16,
   "metadata": {},
   "outputs": [
    {
     "name": "stdout",
     "output_type": "stream",
     "text": [
      "CPU times: user 0 ns, sys: 0 ns, total: 0 ns\n",
      "Wall time: 226 µs\n"
     ]
    }
   ],
   "source": [
    "%%time \n",
    "\n",
    "results = list_dependencies(extreme_dependency_generator(100), 1, verbose=False)"
   ]
  },
  {
   "cell_type": "markdown",
   "metadata": {},
   "source": [
    "How far can we push this before hitting recursion limits?"
   ]
  },
  {
   "cell_type": "code",
   "execution_count": 17,
   "metadata": {},
   "outputs": [
    {
     "name": "stdout",
     "output_type": "stream",
     "text": [
      "CPU times: user 15.6 ms, sys: 15.6 ms, total: 31.2 ms\n",
      "Wall time: 34.4 ms\n"
     ]
    }
   ],
   "source": [
    "%%time\n",
    "\n",
    "results = enhanced_list_dependencies(extreme_dependency_generator(999), 1, known_dependencies={}, \n",
    "                                     call_stack_order=set(), debug=False)"
   ]
  },
  {
   "cell_type": "markdown",
   "metadata": {},
   "source": [
    "Versus the old algorithm?\n",
    "\n",
    "* WELL...not exactly a fair test if we're looping through all of the items, right?"
   ]
  },
  {
   "cell_type": "code",
   "execution_count": 18,
   "metadata": {},
   "outputs": [
    {
     "name": "stdout",
     "output_type": "stream",
     "text": [
      "CPU times: user 15.6 ms, sys: 0 ns, total: 15.6 ms\n",
      "Wall time: 13.5 ms\n"
     ]
    }
   ],
   "source": [
    "%%time \n",
    "\n",
    "results = list_dependencies(extreme_dependency_generator(999), 1, verbose=False)"
   ]
  },
  {
   "cell_type": "markdown",
   "metadata": {},
   "source": [
    "OK, let's do a real test where we're iterating over ALL of the items and finding each one's dependencies, which is what the old ordering did\n",
    "\n",
    "\n"
   ]
  },
  {
   "cell_type": "code",
   "execution_count": 19,
   "metadata": {},
   "outputs": [],
   "source": [
    "my_items = extreme_dependency_generator(500)"
   ]
  },
  {
   "cell_type": "code",
   "execution_count": 20,
   "metadata": {},
   "outputs": [
    {
     "name": "stdout",
     "output_type": "stream",
     "text": [
      "CPU times: user 578 ms, sys: 15.6 ms, total: 594 ms\n",
      "Wall time: 567 ms\n"
     ]
    }
   ],
   "source": [
    "%%time\n",
    "\n",
    "# OLD ALGORITHM\n",
    "\n",
    "for item in my_items:\n",
    "    item_dependencies = list_dependencies(my_items, item, verbose=False)"
   ]
  },
  {
   "cell_type": "code",
   "execution_count": 21,
   "metadata": {},
   "outputs": [
    {
     "name": "stdout",
     "output_type": "stream",
     "text": [
      "CPU times: user 3min 29s, sys: 31.2 ms, total: 3min 29s\n",
      "Wall time: 3min 30s\n"
     ]
    }
   ],
   "source": [
    "%%time\n",
    "\n",
    "# OLD ALGORITHM for ordering\n",
    "\n",
    "results = order_dependencies(my_items)"
   ]
  },
  {
   "cell_type": "code",
   "execution_count": 23,
   "metadata": {},
   "outputs": [
    {
     "name": "stdout",
     "output_type": "stream",
     "text": [
      "CPU times: user 0 ns, sys: 15.6 ms, total: 15.6 ms\n",
      "Wall time: 17.6 ms\n"
     ]
    }
   ],
   "source": [
    "%%time\n",
    "\n",
    "# NEW ALGORITHM\n",
    "\n",
    "known_dependencies = {}\n",
    "for item in my_items:\n",
    "    item_dependencies, known_dependencies, call_stack_order  = enhanced_list_dependencies(\n",
    "        my_items, item, known_dependencies, call_stack_order=set(), debug=False)"
   ]
  },
  {
   "cell_type": "markdown",
   "metadata": {},
   "source": [
    "#### Finding the recursion limit\n",
    "\n",
    "* Getting rid of the cell output because it's taking up too much space, but \n",
    "\n",
    "```\n",
    "results = enhanced_list_dependencies(extreme_dependency_generator(5000), 1, known_dependencies={}, debug=False)\n",
    "```\n",
    "\n",
    "Results in a \n",
    "\n",
    "```\n",
    "RecursionError: maximum recursion depth exceeded in comparison\n",
    "```"
   ]
  },
  {
   "cell_type": "markdown",
   "metadata": {},
   "source": [
    "Can we get around the recursion limit?"
   ]
  },
  {
   "cell_type": "code",
   "execution_count": 24,
   "metadata": {},
   "outputs": [
    {
     "name": "stdout",
     "output_type": "stream",
     "text": [
      "Current recursion limit: 3000\n",
      "Changing recursion limit to: 10000\n"
     ]
    }
   ],
   "source": [
    "import sys\n",
    "print(\"Current recursion limit:\", sys.getrecursionlimit())\n",
    "sys.setrecursionlimit(10000)\n",
    "print(\"Changing recursion limit to:\", sys.getrecursionlimit())"
   ]
  },
  {
   "cell_type": "code",
   "execution_count": 25,
   "metadata": {},
   "outputs": [
    {
     "name": "stdout",
     "output_type": "stream",
     "text": [
      "CPU times: user 422 ms, sys: 281 ms, total: 703 ms\n",
      "Wall time: 702 ms\n"
     ]
    }
   ],
   "source": [
    "%%time\n",
    "\n",
    "results = enhanced_list_dependencies(extreme_dependency_generator(5000), 1, \n",
    "                                     known_dependencies={}, call_stack_order=set(), debug=False)"
   ]
  },
  {
   "cell_type": "markdown",
   "metadata": {},
   "source": [
    "------------"
   ]
  },
  {
   "cell_type": "markdown",
   "metadata": {},
   "source": [
    "This algorithm is looking good...but how can we make it iterative instead of recursive? Personally, I like the elegance of the recursive solution, and it makes most sense to me, but Python isn't optimized for tail call recursion, and has a default recursion depth of 1,000, which is fairly low.\n",
    "\n",
    "### Solution for (1) using iteration\n",
    "\n",
    "My original solution used iteration, but in a bad way because computations were repeated (imagine computing the Fibonacci sequence where each step has to be recomputed for each subsequent step...not good).\n",
    "\n",
    "REVISIT LATER!!!!"
   ]
  },
  {
   "cell_type": "markdown",
   "metadata": {},
   "source": [
    "--------------------"
   ]
  },
  {
   "cell_type": "markdown",
   "metadata": {},
   "source": [
    "## All possible orderings\n",
    "\n",
    "There can be multiple correct orderings of dependencies...how do we find this out?"
   ]
  },
  {
   "cell_type": "code",
   "execution_count": 86,
   "metadata": {},
   "outputs": [
    {
     "name": "stdout",
     "output_type": "stream",
     "text": [
      "Finding deps for: A\n",
      "Finding deps for: B\n",
      "Finding deps for: C\n",
      "Finding deps for: D\n",
      "Finding deps for: E\n",
      "Finding deps for: F\n",
      "Finding deps for: Z\n"
     ]
    },
    {
     "data": {
      "text/plain": [
       "{'B': [],\n",
       " 'F': [],\n",
       " 'E': ['F'],\n",
       " 'D': ['E', 'F', 'B'],\n",
       " 'C': ['E', 'D', 'B', 'F'],\n",
       " 'A': ['E', 'D', 'F', 'C', 'B'],\n",
       " 'Z': ['A', 'E', 'D', 'F', 'C', 'B']}"
      ]
     },
     "execution_count": 86,
     "metadata": {},
     "output_type": "execute_result"
    }
   ],
   "source": [
    "my_items = {\n",
    "    'A': ['B', 'C', 'D'],  # -- A is dependent on B, C, D,\n",
    "    'B': [],  # -- B is dependent on nothing, etc.\n",
    "    'C': ['D'],\n",
    "    'D': ['B', 'E'],\n",
    "    'E': ['F'],\n",
    "    'F': [],\n",
    "    'Z': ['A', 'B', 'C', 'D'],\n",
    "}\n",
    "\n",
    "known_dependencies = {}\n",
    "for item in my_items:\n",
    "    print(\"Finding deps for:\", item)\n",
    "    item_deps, known_dependencies, call_stack_order = enhanced_list_dependencies(\n",
    "        my_items, item, known_dependencies=known_dependencies, call_stack_order=set(), debug=False)\n",
    "    \n",
    "known_dependencies"
   ]
  },
  {
   "cell_type": "markdown",
   "metadata": {},
   "source": [
    "Does the ordering of the keys in `known_dependencies` stay the same if we change the order of the keys?\n",
    "\n",
    "* NO, this will give us ALL POSSIBLE orderings..."
   ]
  },
  {
   "cell_type": "code",
   "execution_count": 87,
   "metadata": {},
   "outputs": [
    {
     "data": {
      "text/plain": [
       "{('B', 'F', 'E', 'D', 'C', 'A', 'Z'),\n",
       " ('F', 'B', 'E', 'D', 'C', 'A', 'Z'),\n",
       " ('F', 'E', 'B', 'D', 'C', 'A', 'Z')}"
      ]
     },
     "execution_count": 87,
     "metadata": {},
     "output_type": "execute_result"
    }
   ],
   "source": [
    "from itertools import permutations \n",
    "\n",
    "\n",
    "# Loop through all permutations of my_items, generate a known_dependencies dict\n",
    "known_deps_dicts = []\n",
    "for my_items_perm in list(permutations(my_items.keys())):\n",
    "    known_dependencies = {}\n",
    "    for item in list(my_items_perm):\n",
    "        item_deps, known_dependencies, call_stack_order = enhanced_list_dependencies(\n",
    "            my_items, item, known_dependencies=known_dependencies, call_stack_order=set(), debug=False)\n",
    "    known_deps_dicts.append(known_dependencies)\n",
    "    \n",
    "    \n",
    "# Do all of the known_dependencies dicts have keys in the same order?\n",
    "# NO, permutating through all possible orderings of the keys in my_items is GIVING us all\n",
    "# possible orderings :)\n",
    "known_deps_dicts_keys = [tuple(x.keys()) for x in known_deps_dicts]\n",
    "set(known_deps_dicts_keys)"
   ]
  },
  {
   "cell_type": "code",
   "execution_count": 90,
   "metadata": {},
   "outputs": [
    {
     "data": {
      "text/plain": [
       "[['F', 'E', 'B', 'D', 'C', 'A', 'Z'],\n",
       " ['F', 'B', 'E', 'D', 'C', 'A', 'Z'],\n",
       " ['B', 'F', 'E', 'D', 'C', 'A', 'Z']]"
      ]
     },
     "execution_count": 90,
     "metadata": {},
     "output_type": "execute_result"
    }
   ],
   "source": [
    "[list(x) for x in set(known_deps_dicts_keys)]"
   ]
  },
  {
   "cell_type": "markdown",
   "metadata": {},
   "source": [
    "Let's write a function to check whether or not an ordering is correct (a naive algorithm for finding all possible correct orderings would just be to permutate over all possible orderings, and check whether or not each one is correct)"
   ]
  },
  {
   "cell_type": "code",
   "execution_count": 88,
   "metadata": {},
   "outputs": [
    {
     "name": "stdout",
     "output_type": "stream",
     "text": [
      "The ordering is correct: True\n",
      "The ordering is correct: True\n",
      "The ordering is correct: True\n"
     ]
    }
   ],
   "source": [
    "def check_if_ordering_is_correct(ordering, known_dependencies):\n",
    "    \"\"\"Given an [ordering] of items and a complete dictionary of items to their \n",
    "    dependencies [known_dependencies], check to see if the ordering is correct from \n",
    "    a dependency management perspective or not.\n",
    "    \"\"\"\n",
    "    items_already_looped_through = set()\n",
    "    for item in ordering:\n",
    "        items_already_looped_through.add(item)\n",
    "        # Loop through each item's complete set of dependencies, if any of those dependencies\n",
    "        # haven't already been looped through, then the ordering is incorrect!\n",
    "        for item_dependency in known_dependencies[item]:\n",
    "            if item_dependency not in items_already_looped_through:\n",
    "                return False\n",
    "    return True\n",
    "\n",
    "for ordering in set(known_deps_dicts_keys):\n",
    "    print(\"The ordering is correct:\", check_if_ordering_is_correct(ordering, known_dependencies))"
   ]
  },
  {
   "cell_type": "code",
   "execution_count": 89,
   "metadata": {},
   "outputs": [
    {
     "name": "stdout",
     "output_type": "stream",
     "text": [
      "Number of permutations: 5040\n",
      "Number of correct orderings: 3\n",
      "Number of incorrect orderings: 5037\n"
     ]
    }
   ],
   "source": [
    "incorrect_orderings = []\n",
    "correct_orderings = []\n",
    "for my_items_perm in list(permutations(my_items.keys())):\n",
    "    if check_if_ordering_is_correct(my_items_perm, known_dependencies):\n",
    "        correct_orderings.append(my_items_perm)\n",
    "    else:\n",
    "        incorrect_orderings.append(my_items_perm)\n",
    "        \n",
    "print(\"Number of permutations:\", len(incorrect_orderings) + len(correct_orderings))\n",
    "print(\"Number of correct orderings:\", len(correct_orderings))\n",
    "print(\"Number of incorrect orderings:\", len(incorrect_orderings))"
   ]
  },
  {
   "cell_type": "markdown",
   "metadata": {},
   "source": [
    "Can we programatically figure out the correct orderings w/o having to "
   ]
  },
  {
   "cell_type": "code",
   "execution_count": 82,
   "metadata": {},
   "outputs": [
    {
     "data": {
      "text/plain": [
       "{'H': [],\n",
       " 'B': [],\n",
       " 'F': [],\n",
       " 'E': ['F'],\n",
       " 'D': ['E', 'F', 'B'],\n",
       " 'C': ['E', 'D', 'B', 'F'],\n",
       " 'A': ['E', 'D', 'F', 'C', 'B'],\n",
       " 'Z': ['A', 'E', 'D', 'F', 'C', 'B']}"
      ]
     },
     "execution_count": 82,
     "metadata": {},
     "output_type": "execute_result"
    }
   ],
   "source": [
    "known_dependencies"
   ]
  },
  {
   "cell_type": "code",
   "execution_count": 83,
   "metadata": {},
   "outputs": [
    {
     "data": {
      "text/plain": [
       "{'H': [],\n",
       " 'B': ['D', 'C', 'A', 'Z'],\n",
       " 'F': ['E', 'D', 'C', 'A', 'Z'],\n",
       " 'E': ['D', 'C', 'A', 'Z'],\n",
       " 'D': ['C', 'A', 'Z'],\n",
       " 'C': ['A', 'Z'],\n",
       " 'A': ['Z'],\n",
       " 'Z': []}"
      ]
     },
     "execution_count": 83,
     "metadata": {},
     "output_type": "execute_result"
    }
   ],
   "source": [
    "items_that_depend_on_me = {}\n",
    "for item in known_dependencies.keys():\n",
    "    items_that_depend_on_me[item] = []\n",
    "    for sub_item in known_dependencies.keys():\n",
    "        if item in known_dependencies[sub_item]:\n",
    "            items_that_depend_on_me[item].append(sub_item)\n",
    "            \n",
    "\n",
    "items_that_depend_on_me"
   ]
  },
  {
   "cell_type": "code",
   "execution_count": 84,
   "metadata": {},
   "outputs": [
    {
     "data": {
      "text/plain": [
       "['H', 'B', 'F', 'E', 'D', 'C', 'A', 'Z']"
      ]
     },
     "execution_count": 84,
     "metadata": {},
     "output_type": "execute_result"
    }
   ],
   "source": [
    "initial_ordering = list(items_that_depend_on_me.keys())\n",
    "initial_ordering"
   ]
  },
  {
   "cell_type": "code",
   "execution_count": null,
   "metadata": {},
   "outputs": [],
   "source": [
    "def order_items(known_dependencies, items_that_depend_on_me, current_item, current_ordering=[],  valid_orderings=[]):\n",
    "    \"\"\"Identify all possible orderings\n",
    "    \"\"\"\n",
    "    possible_items = list(known_dependencies.keys())\n",
    "    unordered_items = [item for item in possible_items if item not in current_ordering]\n",
    "    if len(unordered_items) > 0:\n",
    "        # Not done constructing the valid ordering\n",
    "        for item in unordered_items:\n",
    "            if \n",
    "    else:\n",
    "        # Done constructing the ordering, is it valid though?\n",
    "        if len(current_ordering)\n",
    "        \n",
    "        \n",
    "    \n",
    "    \n",
    "current_ordering, valid_orderings = [[] for _ in range(2)]\n",
    "beginning = [item for item, dependencies in known_dependencies.items() if dependencies == []]\n",
    "for current_item in beginning:\n",
    "    current_ordering, valid_orderings = order_items(\n",
    "        known_dependencies, items_that_depend_on_me, current_item, \n",
    "        current_ordering=current_ordering, \n",
    "        valid_orderings=valid_orderings\n",
    "    )"
   ]
  },
  {
   "cell_type": "code",
   "execution_count": null,
   "metadata": {},
   "outputs": [],
   "source": []
  }
 ],
 "metadata": {
  "kernelspec": {
   "display_name": "Python 3",
   "language": "python",
   "name": "python3"
  },
  "language_info": {
   "codemirror_mode": {
    "name": "ipython",
    "version": 3
   },
   "file_extension": ".py",
   "mimetype": "text/x-python",
   "name": "python",
   "nbconvert_exporter": "python",
   "pygments_lexer": "ipython3",
   "version": "3.7.1"
  }
 },
 "nbformat": 4,
 "nbformat_minor": 2
}
